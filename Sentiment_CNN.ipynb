{
 "cells": [
  {
   "cell_type": "code",
   "execution_count": 410,
   "metadata": {},
   "outputs": [],
   "source": [
    "import pandas as pd\n",
    "import numpy as np\n",
    "import re\n",
    "import nltk\n",
    "from nltk.corpus import stopwords\n",
    "\n",
    "from numpy import array\n",
    "from keras.preprocessing.text import one_hot\n",
    "from keras.preprocessing.sequence import pad_sequences\n",
    "from keras.models import Sequential\n",
    "from keras.layers.core import Activation, Dropout, Dense\n",
    "from keras.layers import Flatten\n",
    "from keras.layers import GlobalMaxPooling1D,Conv1D\n",
    "from keras.layers.embeddings import Embedding\n",
    "from sklearn.model_selection import train_test_split\n",
    "from keras.preprocessing.text import Tokenizer"
   ]
  },
  {
   "cell_type": "code",
   "execution_count": 2,
   "metadata": {},
   "outputs": [],
   "source": [
    "corpus = [\n",
    "    # Positive Reviews\n",
    "\n",
    "    'This is an excellent movie',\n",
    "    'The move was fantastic I like it',\n",
    "    'You should watch it is brilliant',\n",
    "    'Exceptionally good',\n",
    "    'Wonderfully directed and executed I like it',\n",
    "    'Its a fantastic series',\n",
    "    'Never watched such a brillent movie',\n",
    "    'It is a Wonderful movie',\n",
    "\n",
    "    # Negtive Reviews\n",
    "\n",
    "    \"horrible acting\",\n",
    "    'waste of money',\n",
    "    'pathetic picture',\n",
    "    'It was very boring',\n",
    "    'I did not like the movie',\n",
    "    'The movie was horrible',\n",
    "    'I will not recommend',\n",
    "    'The acting is pathetic'\n",
    "]"
   ]
  },
  {
   "cell_type": "code",
   "execution_count": 411,
   "metadata": {},
   "outputs": [
    {
     "data": {
      "text/html": [
       "<div>\n",
       "<style scoped>\n",
       "    .dataframe tbody tr th:only-of-type {\n",
       "        vertical-align: middle;\n",
       "    }\n",
       "\n",
       "    .dataframe tbody tr th {\n",
       "        vertical-align: top;\n",
       "    }\n",
       "\n",
       "    .dataframe thead th {\n",
       "        text-align: right;\n",
       "    }\n",
       "</style>\n",
       "<table border=\"1\" class=\"dataframe\">\n",
       "  <thead>\n",
       "    <tr style=\"text-align: right;\">\n",
       "      <th></th>\n",
       "      <th>Hotel_name</th>\n",
       "      <th>Review_Title</th>\n",
       "      <th>Review_Text</th>\n",
       "      <th>Sentiment</th>\n",
       "      <th>Rating_Percentage</th>\n",
       "      <th>Unnamed: 5</th>\n",
       "      <th>Unnamed: 6</th>\n",
       "      <th>Unnamed: 7</th>\n",
       "      <th>Unnamed: 8</th>\n",
       "    </tr>\n",
       "  </thead>\n",
       "  <tbody>\n",
       "    <tr>\n",
       "      <th>0</th>\n",
       "      <td>Accord Metropolitan</td>\n",
       "      <td>Excellent comfortableness during stay</td>\n",
       "      <td>Its really nice place to stay especially for b...</td>\n",
       "      <td>3</td>\n",
       "      <td>100</td>\n",
       "      <td>NaN</td>\n",
       "      <td>NaN</td>\n",
       "      <td>NaN</td>\n",
       "      <td>NaN</td>\n",
       "    </tr>\n",
       "    <tr>\n",
       "      <th>1</th>\n",
       "      <td>Accord Metropolitan</td>\n",
       "      <td>Not too comfortable</td>\n",
       "      <td>It seems that hotel does not check the basic a...</td>\n",
       "      <td>1</td>\n",
       "      <td>20</td>\n",
       "      <td>NaN</td>\n",
       "      <td>NaN</td>\n",
       "      <td>NaN</td>\n",
       "      <td>NaN</td>\n",
       "    </tr>\n",
       "    <tr>\n",
       "      <th>2</th>\n",
       "      <td>Accord Metropolitan</td>\n",
       "      <td>NaN</td>\n",
       "      <td>Worst hotel I have ever encountered. I will ne...</td>\n",
       "      <td>1</td>\n",
       "      <td>20</td>\n",
       "      <td>NaN</td>\n",
       "      <td>NaN</td>\n",
       "      <td>NaN</td>\n",
       "      <td>NaN</td>\n",
       "    </tr>\n",
       "    <tr>\n",
       "      <th>3</th>\n",
       "      <td>Accord Metropolitan</td>\n",
       "      <td>Best hotel</td>\n",
       "      <td>Had a good time in this hotel and the staff Ku...</td>\n",
       "      <td>3</td>\n",
       "      <td>100</td>\n",
       "      <td>NaN</td>\n",
       "      <td>NaN</td>\n",
       "      <td>NaN</td>\n",
       "      <td>NaN</td>\n",
       "    </tr>\n",
       "    <tr>\n",
       "      <th>4</th>\n",
       "      <td>Accord Metropolitan</td>\n",
       "      <td>NaN</td>\n",
       "      <td>good hotel and staff Veg food good non veg bre...</td>\n",
       "      <td>3</td>\n",
       "      <td>100</td>\n",
       "      <td>NaN</td>\n",
       "      <td>NaN</td>\n",
       "      <td>NaN</td>\n",
       "      <td>NaN</td>\n",
       "    </tr>\n",
       "  </tbody>\n",
       "</table>\n",
       "</div>"
      ],
      "text/plain": [
       "            Hotel_name                           Review_Title  \\\n",
       "0  Accord Metropolitan  Excellent comfortableness during stay   \n",
       "1  Accord Metropolitan                    Not too comfortable   \n",
       "2  Accord Metropolitan                                    NaN   \n",
       "3  Accord Metropolitan                             Best hotel   \n",
       "4  Accord Metropolitan                                    NaN   \n",
       "\n",
       "                                         Review_Text Sentiment  \\\n",
       "0  Its really nice place to stay especially for b...         3   \n",
       "1  It seems that hotel does not check the basic a...         1   \n",
       "2  Worst hotel I have ever encountered. I will ne...         1   \n",
       "3  Had a good time in this hotel and the staff Ku...         3   \n",
       "4  good hotel and staff Veg food good non veg bre...         3   \n",
       "\n",
       "  Rating_Percentage  Unnamed: 5 Unnamed: 6  Unnamed: 7  Unnamed: 8  \n",
       "0               100         NaN        NaN         NaN         NaN  \n",
       "1                20         NaN        NaN         NaN         NaN  \n",
       "2                20         NaN        NaN         NaN         NaN  \n",
       "3               100         NaN        NaN         NaN         NaN  \n",
       "4               100         NaN        NaN         NaN         NaN  "
      ]
     },
     "execution_count": 411,
     "metadata": {},
     "output_type": "execute_result"
    }
   ],
   "source": [
    "import pandas as pd\n",
    "text = pd.read_csv('chennai_reviews.csv')\n",
    "text.head()"
   ]
  },
  {
   "cell_type": "code",
   "execution_count": 412,
   "metadata": {},
   "outputs": [],
   "source": [
    "text_data = text.loc[:,['Review_Text','Sentiment']] "
   ]
  },
  {
   "cell_type": "code",
   "execution_count": 413,
   "metadata": {},
   "outputs": [],
   "source": [
    "text_data1 = text_data[text_data['Sentiment']=='1']\n",
    "text_data2 = text_data[text_data['Sentiment']=='2']\n",
    "text_data3 = text_data[text_data['Sentiment']=='3']"
   ]
  },
  {
   "cell_type": "code",
   "execution_count": 414,
   "metadata": {},
   "outputs": [],
   "source": [
    "text_data =  pd.concat([text_data1,text_data2,text_data3])"
   ]
  },
  {
   "cell_type": "code",
   "execution_count": 415,
   "metadata": {},
   "outputs": [
    {
     "data": {
      "text/html": [
       "<div>\n",
       "<style scoped>\n",
       "    .dataframe tbody tr th:only-of-type {\n",
       "        vertical-align: middle;\n",
       "    }\n",
       "\n",
       "    .dataframe tbody tr th {\n",
       "        vertical-align: top;\n",
       "    }\n",
       "\n",
       "    .dataframe thead th {\n",
       "        text-align: right;\n",
       "    }\n",
       "</style>\n",
       "<table border=\"1\" class=\"dataframe\">\n",
       "  <thead>\n",
       "    <tr style=\"text-align: right;\">\n",
       "      <th></th>\n",
       "      <th>Review_Text</th>\n",
       "      <th>Sentiment</th>\n",
       "    </tr>\n",
       "  </thead>\n",
       "  <tbody>\n",
       "    <tr>\n",
       "      <th>1</th>\n",
       "      <td>It seems that hotel does not check the basic a...</td>\n",
       "      <td>1</td>\n",
       "    </tr>\n",
       "    <tr>\n",
       "      <th>2</th>\n",
       "      <td>Worst hotel I have ever encountered. I will ne...</td>\n",
       "      <td>1</td>\n",
       "    </tr>\n",
       "    <tr>\n",
       "      <th>38</th>\n",
       "      <td>Check in took more then 45 mins, all the 4 pil...</td>\n",
       "      <td>1</td>\n",
       "    </tr>\n",
       "    <tr>\n",
       "      <th>41</th>\n",
       "      <td>This property is a bit old. Bath tub, toilets ...</td>\n",
       "      <td>1</td>\n",
       "    </tr>\n",
       "    <tr>\n",
       "      <th>42</th>\n",
       "      <td>The hotel rooms are quite old and are not main...</td>\n",
       "      <td>1</td>\n",
       "    </tr>\n",
       "  </tbody>\n",
       "</table>\n",
       "</div>"
      ],
      "text/plain": [
       "                                          Review_Text Sentiment\n",
       "1   It seems that hotel does not check the basic a...         1\n",
       "2   Worst hotel I have ever encountered. I will ne...         1\n",
       "38  Check in took more then 45 mins, all the 4 pil...         1\n",
       "41  This property is a bit old. Bath tub, toilets ...         1\n",
       "42  The hotel rooms are quite old and are not main...         1"
      ]
     },
     "execution_count": 415,
     "metadata": {},
     "output_type": "execute_result"
    }
   ],
   "source": [
    "text_data.head()"
   ]
  },
  {
   "cell_type": "code",
   "execution_count": 416,
   "metadata": {},
   "outputs": [],
   "source": [
    "for i in range(len(text_data)):\n",
    "    if text_data.iloc[i].Sentiment=='2':\n",
    "        text_data.iloc[i].Sentiment='1'"
   ]
  },
  {
   "cell_type": "code",
   "execution_count": 417,
   "metadata": {},
   "outputs": [],
   "source": [
    "for i in range(len(text_data)):\n",
    "    if text_data.iloc[i].Sentiment == '3':\n",
    "        text_data.iloc[i].Sentiment = 1\n",
    "    else:\n",
    "        text_data.iloc[i].Sentiment = 0"
   ]
  },
  {
   "cell_type": "code",
   "execution_count": 418,
   "metadata": {},
   "outputs": [],
   "source": [
    "import re\n",
    "for i in range(len(text_data)):\n",
    "    x = text_data.iloc[i].Review_Text\n",
    "    x = re.sub(r'https:\\/\\/[a-zA-Z]*\\.com',' ',x)\n",
    "    x = re.sub(r'\\W+',' ',x)\n",
    "    x = re.sub(r'\\d+',' ',x)\n",
    "    x = re.sub(r'^\\s+','',x)\n",
    "    x = re.sub(r'\\s+$','',x)\n",
    "    x = re.sub(r'\\s+',' ',x)\n",
    "    x = x.lower()\n",
    "    text_data.iloc[i].Review_Text = x"
   ]
  },
  {
   "cell_type": "code",
   "execution_count": 419,
   "metadata": {},
   "outputs": [],
   "source": [
    "import nltk\n",
    "from nltk.corpus import stopwords"
   ]
  },
  {
   "cell_type": "code",
   "execution_count": 420,
   "metadata": {},
   "outputs": [],
   "source": [
    "from nltk.tokenize import word_tokenize"
   ]
  },
  {
   "cell_type": "code",
   "execution_count": 421,
   "metadata": {},
   "outputs": [
    {
     "name": "stdout",
     "output_type": "stream",
     "text": [
      "0 100 200 300 400 500 600 700 800 900 1000 1100 1200 1300 1400 1500 1600 1700 1800 1900 2000 2100 2200 2300 2400 2500 2600 2700 2800 2900 3000 3100 3200 3300 3400 3500 3600 3700 3800 3900 4000 4100 4200 4300 4400 4500 4600 4700 "
     ]
    }
   ],
   "source": [
    "for i in range(len(text_data)):\n",
    "    x = text_data.iloc[i].Review_Text\n",
    "    x = word_tokenize(x)\n",
    "    new_x_list = [word for word in x if word not in stopwords.words('english')]\n",
    "    text_data.iloc[i].Review_Text = ' '.join(new_x_list)\n",
    "    if i%100==0:\n",
    "        print(i,end=\" \")"
   ]
  },
  {
   "cell_type": "code",
   "execution_count": 422,
   "metadata": {},
   "outputs": [
    {
     "data": {
      "text/plain": [
       "'hotel rooms quite old maintained chair cushion torn shower curtains window curtains even phone musty smell wait reception long breakfast decent location good us visa applicants'"
      ]
     },
     "execution_count": 422,
     "metadata": {},
     "output_type": "execute_result"
    }
   ],
   "source": [
    "text_data.iloc[4].Review_Text"
   ]
  },
  {
   "cell_type": "code",
   "execution_count": null,
   "metadata": {},
   "outputs": [],
   "source": []
  },
  {
   "cell_type": "code",
   "execution_count": 61,
   "metadata": {},
   "outputs": [],
   "source": [
    "sentiments = array([1,1,1,1,1,1,1,1,0,0,0,0,0,0,0,0])"
   ]
  },
  {
   "cell_type": "code",
   "execution_count": 423,
   "metadata": {},
   "outputs": [],
   "source": [
    "X_train, X_test, y_train, y_test = train_test_split(text_data.Review_Text, text_data.Sentiment, test_size=0.20)"
   ]
  },
  {
   "cell_type": "code",
   "execution_count": null,
   "metadata": {},
   "outputs": [],
   "source": []
  },
  {
   "cell_type": "code",
   "execution_count": 424,
   "metadata": {},
   "outputs": [],
   "source": [
    "tokenizer = Tokenizer()\n",
    "tokenizer.fit_on_texts(text_data.Review_Text)\n",
    "\n",
    "X_train = tokenizer.texts_to_sequences(X_train)\n",
    "X_test = tokenizer.texts_to_sequences(X_test)"
   ]
  },
  {
   "cell_type": "code",
   "execution_count": 425,
   "metadata": {},
   "outputs": [],
   "source": [
    "vocab_size = len(tokenizer.word_index) + 1\n",
    "\n",
    "maxlen = 324\n",
    "\n",
    "X_train = pad_sequences(X_train, padding='post', maxlen=maxlen)\n",
    "X_test = pad_sequences(X_test, padding='post', maxlen=maxlen)"
   ]
  },
  {
   "cell_type": "code",
   "execution_count": 426,
   "metadata": {},
   "outputs": [],
   "source": [
    "word_index = tokenizer.word_index\n",
    "embedding_dim = 300\n",
    "max_length = 324"
   ]
  },
  {
   "cell_type": "code",
   "execution_count": null,
   "metadata": {},
   "outputs": [],
   "source": []
  },
  {
   "cell_type": "code",
   "execution_count": 427,
   "metadata": {},
   "outputs": [
    {
     "name": "stderr",
     "output_type": "stream",
     "text": [
      "C:\\ProgramData\\Anaconda3\\lib\\site-packages\\smart_open\\smart_open_lib.py:402: UserWarning: This function is deprecated, use smart_open.open instead. See the migration notes for details: https://github.com/RaRe-Technologies/smart_open/blob/master/README.rst#migrating-to-the-new-open-function\n",
      "  'See the migration notes for details: %s' % _MIGRATION_NOTES_URL\n"
     ]
    }
   ],
   "source": [
    "import gensim\n",
    "WORD2VEC_MODEL = \"dataset\\model_1_lac.bin\"\n",
    "#load word2vec model\n",
    "word2vec = gensim.models.KeyedVectors.load_word2vec_format(WORD2VEC_MODEL, binary=True, limit=100000)"
   ]
  },
  {
   "cell_type": "code",
   "execution_count": 428,
   "metadata": {},
   "outputs": [],
   "source": [
    "embedding_weights = np.zeros((vocab_size, embedding_dim))\n",
    "for word, index in tokenizer.word_index.items():\n",
    "    #embedding_vector = word2vec.get(word)\n",
    "    try:\n",
    "        embedding_weights[index,:] = word2vec[word]\n",
    "    except:\n",
    "        pass "
   ]
  },
  {
   "cell_type": "code",
   "execution_count": 429,
   "metadata": {},
   "outputs": [
    {
     "name": "stdout",
     "output_type": "stream",
     "text": [
      "[ 0.08496094 -0.09521484  0.11914062  0.11181641 -0.11132812  0.04980469\n",
      "  0.11425781 -0.09863281  0.09960938 -0.04150391  0.01287842 -0.18164062\n",
      " -0.11621094  0.02380371 -0.1640625   0.12695312  0.12060547  0.00946045\n",
      "  0.04150391 -0.09521484 -0.12988281 -0.11523438  0.07519531 -0.04980469\n",
      "  0.06591797 -0.02905273 -0.08984375  0.08447266 -0.04785156 -0.02709961\n",
      " -0.10302734  0.11083984  0.01422119 -0.09863281  0.04125977  0.07226562\n",
      "  0.10986328  0.01135254 -0.01483154  0.0456543   0.140625    0.14648438\n",
      "  0.25976562 -0.16796875 -0.00145721 -0.02148438  0.0189209   0.04003906\n",
      "  0.0559082   0.03808594  0.00202942  0.07128906 -0.05249023 -0.02783203\n",
      "  0.11132812  0.11914062 -0.05249023 -0.07910156  0.10302734 -0.11816406\n",
      "  0.03662109  0.13671875 -0.09033203 -0.0703125  -0.0390625  -0.01745605\n",
      " -0.08154297  0.2421875  -0.18066406  0.09570312  0.09033203  0.19921875\n",
      "  0.04736328 -0.05517578 -0.22265625 -0.07421875  0.16113281  0.10400391\n",
      "  0.11376953  0.11279297  0.00497437 -0.05102539  0.03955078  0.04907227\n",
      " -0.13964844 -0.08886719 -0.11328125  0.13671875 -0.03295898 -0.234375\n",
      "  0.10986328 -0.02148438 -0.17675781 -0.03088379  0.06030273 -0.17382812\n",
      "  0.12255859  0.10693359 -0.08544922  0.06005859 -0.07910156  0.05151367\n",
      "  0.02502441  0.08837891 -0.09326172 -0.00817871 -0.09912109 -0.15429688\n",
      "  0.03198242 -0.02722168 -0.17773438 -0.04589844 -0.08789062 -0.00209045\n",
      "  0.13378906 -0.08886719  0.09082031 -0.12890625 -0.00052261  0.09863281\n",
      " -0.13085938  0.02770996  0.04907227  0.08935547 -0.11328125 -0.04101562\n",
      " -0.09179688 -0.10839844  0.0402832  -0.25390625 -0.02929688 -0.10644531\n",
      " -0.07666016 -0.07470703 -0.13378906 -0.21191406  0.02893066  0.07666016\n",
      "  0.05517578  0.0189209   0.05126953 -0.20703125  0.19628906 -0.09179688\n",
      " -0.02612305  0.02929688  0.02770996 -0.20019531  0.10302734  0.06152344\n",
      "  0.07958984  0.11669922 -0.04150391 -0.05517578  0.09326172  0.07373047\n",
      " -0.09179688 -0.04248047 -0.09667969  0.05908203  0.09570312  0.15527344\n",
      "  0.09082031  0.05175781  0.08740234 -0.08935547  0.09521484  0.08203125\n",
      "  0.13476562 -0.09082031 -0.09619141 -0.0390625  -0.11865234 -0.07910156\n",
      " -0.08837891  0.00372314  0.20214844 -0.08349609 -0.08154297 -0.11083984\n",
      " -0.11083984 -0.05932617  0.10253906  0.0534668   0.01098633 -0.0078125\n",
      " -0.0378418   0.04833984 -0.06347656  0.20507812 -0.01538086 -0.02111816\n",
      "  0.00436401  0.10839844  0.12304688 -0.02600098 -0.00346375 -0.01257324\n",
      " -0.02001953 -0.11621094  0.08105469  0.09521484 -0.06079102  0.20214844\n",
      " -0.03173828  0.06933594 -0.06542969  0.02050781  0.02905273 -0.05151367\n",
      " -0.05981445  0.01428223 -0.01531982 -0.00619507 -0.23632812 -0.00689697\n",
      "  0.18359375 -0.11376953 -0.11376953 -0.07275391 -0.04785156 -0.08398438\n",
      " -0.21777344 -0.03540039  0.12597656 -0.08154297  0.17089844  0.07080078\n",
      " -0.01068115  0.09960938  0.12011719 -0.01586914 -0.09716797  0.01409912\n",
      "  0.10546875 -0.09228516 -0.00302124 -0.1640625   0.06982422 -0.14746094\n",
      "  0.04199219  0.00708008  0.10498047 -0.11523438  0.01977539 -0.03320312\n",
      "  0.00909424  0.00823975 -0.00151825 -0.09960938  0.03393555 -0.0037384\n",
      "  0.27734375  0.00643921  0.18847656  0.04321289  0.09472656  0.0546875\n",
      " -0.13867188 -0.07470703  0.03735352 -0.06445312 -0.25195312  0.14257812\n",
      " -0.04736328  0.12597656 -0.04174805 -0.05664062 -0.00921631 -0.02355957\n",
      "  0.18847656  0.11035156  0.3515625   0.07763672 -0.09814453 -0.05371094\n",
      " -0.03588867 -0.16601562  0.0324707  -0.08105469  0.09619141 -0.0135498\n",
      " -0.01434326  0.12988281  0.01916504  0.00421143 -0.00360107 -0.17480469\n",
      " -0.08691406  0.07324219 -0.06640625  0.03442383 -0.00570679 -0.03320312\n",
      " -0.00093842  0.03198242  0.06347656 -0.10888672  0.04882812 -0.13085938]\n"
     ]
    }
   ],
   "source": [
    "print(word2vec['not'])"
   ]
  },
  {
   "cell_type": "markdown",
   "metadata": {},
   "source": [
    "# Neural Network"
   ]
  },
  {
   "cell_type": "code",
   "execution_count": 457,
   "metadata": {},
   "outputs": [],
   "source": [
    "model = Sequential()\n",
    "embedding_layer = Embedding(vocab_size, 300, weights=[embedding_weights], input_length=maxlen , trainable=False)\n",
    "model.add(embedding_layer)\n",
    "\n",
    "model.add(Flatten())\n",
    "model.add(Dense(1, activation='sigmoid'))"
   ]
  },
  {
   "cell_type": "code",
   "execution_count": 458,
   "metadata": {},
   "outputs": [
    {
     "name": "stdout",
     "output_type": "stream",
     "text": [
      "_________________________________________________________________\n",
      "Layer (type)                 Output Shape              Param #   \n",
      "=================================================================\n",
      "embedding_27 (Embedding)     (None, 324, 300)          1774200   \n",
      "_________________________________________________________________\n",
      "flatten_7 (Flatten)          (None, 97200)             0         \n",
      "_________________________________________________________________\n",
      "dense_17 (Dense)             (None, 1)                 97201     \n",
      "=================================================================\n",
      "Total params: 1,871,401\n",
      "Trainable params: 97,201\n",
      "Non-trainable params: 1,774,200\n",
      "_________________________________________________________________\n",
      "None\n"
     ]
    }
   ],
   "source": [
    "model.compile(optimizer='adam', loss='binary_crossentropy', metrics=['acc'])\n",
    "\n",
    "print(model.summary())"
   ]
  },
  {
   "cell_type": "code",
   "execution_count": 459,
   "metadata": {},
   "outputs": [
    {
     "name": "stdout",
     "output_type": "stream",
     "text": [
      "Train on 3009 samples, validate on 753 samples\n",
      "Epoch 1/15\n",
      "3009/3009 [==============================] - 2s 687us/step - loss: 0.5146 - acc: 0.7394 - val_loss: 0.4545 - val_acc: 0.8035\n",
      "Epoch 2/15\n",
      "3009/3009 [==============================] - 1s 435us/step - loss: 0.3858 - acc: 0.8471 - val_loss: 0.4217 - val_acc: 0.8167\n",
      "Epoch 3/15\n",
      "3009/3009 [==============================] - 1s 429us/step - loss: 0.3312 - acc: 0.8777 - val_loss: 0.4015 - val_acc: 0.8274\n",
      "Epoch 4/15\n",
      "3009/3009 [==============================] - 1s 429us/step - loss: 0.2911 - acc: 0.9036 - val_loss: 0.3897 - val_acc: 0.8300\n",
      "Epoch 5/15\n",
      "3009/3009 [==============================] - 1s 431us/step - loss: 0.2606 - acc: 0.9163 - val_loss: 0.3816 - val_acc: 0.8287\n",
      "Epoch 6/15\n",
      "3009/3009 [==============================] - 1s 429us/step - loss: 0.2369 - acc: 0.9242 - val_loss: 0.3770 - val_acc: 0.8393\n",
      "Epoch 7/15\n",
      "3009/3009 [==============================] - 1s 434us/step - loss: 0.2206 - acc: 0.9335 - val_loss: 0.3773 - val_acc: 0.8446\n",
      "Epoch 8/15\n",
      "3009/3009 [==============================] - 1s 432us/step - loss: 0.2032 - acc: 0.9468 - val_loss: 0.3742 - val_acc: 0.8446\n",
      "Epoch 9/15\n",
      "3009/3009 [==============================] - 1s 437us/step - loss: 0.1889 - acc: 0.9515 - val_loss: 0.3727 - val_acc: 0.8393\n",
      "Epoch 10/15\n",
      "3009/3009 [==============================] - 1s 431us/step - loss: 0.1766 - acc: 0.9545 - val_loss: 0.3757 - val_acc: 0.8499\n",
      "Epoch 11/15\n",
      "3009/3009 [==============================] - 1s 445us/step - loss: 0.1663 - acc: 0.9595 - val_loss: 0.3704 - val_acc: 0.8393\n",
      "Epoch 12/15\n",
      "3009/3009 [==============================] - 1s 449us/step - loss: 0.1564 - acc: 0.9628 - val_loss: 0.3704 - val_acc: 0.8420\n",
      "Epoch 13/15\n",
      "3009/3009 [==============================] - 1s 433us/step - loss: 0.1472 - acc: 0.9661 - val_loss: 0.3734 - val_acc: 0.8446\n",
      "Epoch 14/15\n",
      "3009/3009 [==============================] - 1s 466us/step - loss: 0.1397 - acc: 0.9674 - val_loss: 0.3703 - val_acc: 0.8393\n",
      "Epoch 15/15\n",
      "3009/3009 [==============================] - 1s 435us/step - loss: 0.1328 - acc: 0.9698 - val_loss: 0.3735 - val_acc: 0.8406\n"
     ]
    }
   ],
   "source": [
    "history = model.fit(X_train, y_train,  epochs=15, verbose=1,validation_split=0.2)"
   ]
  },
  {
   "cell_type": "code",
   "execution_count": 460,
   "metadata": {},
   "outputs": [
    {
     "name": "stdout",
     "output_type": "stream",
     "text": [
      "941/941 [==============================] - 0s 288us/step\n"
     ]
    }
   ],
   "source": [
    "score = model.evaluate(X_test, y_test, verbose=1)"
   ]
  },
  {
   "cell_type": "code",
   "execution_count": 461,
   "metadata": {},
   "outputs": [
    {
     "name": "stdout",
     "output_type": "stream",
     "text": [
      "Test Score: 0.390925282713394\n",
      "Test Accuracy: 0.8501594048884166\n"
     ]
    }
   ],
   "source": [
    "print(\"Test Score:\", score[0])\n",
    "print(\"Test Accuracy:\", score[1])"
   ]
  },
  {
   "cell_type": "code",
   "execution_count": 462,
   "metadata": {},
   "outputs": [
    {
     "data": {
      "image/png": "[encoded data removed]",
      "text/plain": [
       "<Figure size 432x288 with 1 Axes>"
      ]
     },
     "metadata": {},
     "output_type": "display_data"
    },
    {
     "data": {
      "image/png": "[encoded data removed]",
      "text/plain": [
       "<Figure size 432x288 with 1 Axes>"
      ]
     },
     "metadata": {},
     "output_type": "display_data"
    }
   ],
   "source": [
    "import matplotlib.pyplot as plt\n",
    "plt.plot(history.history['acc'])\n",
    "plt.plot(history.history['val_acc'])\n",
    "plt.title('model accuracy')\n",
    "plt.ylabel('acc')\n",
    "plt.xlabel('epochs')\n",
    "plt.legend(['train','test'], loc='upper left')\n",
    "plt.show()\n",
    "\n",
    "plt.plot(history.history['loss'])\n",
    "plt.plot(history.history['val_loss'])\n",
    "\n",
    "plt.title('model loss')\n",
    "plt.ylabel('loss')\n",
    "plt.xlabel('epoch')\n",
    "plt.legend(['train','test'], loc='upper left')\n",
    "plt.show()"
   ]
  },
  {
   "cell_type": "code",
   "execution_count": 260,
   "metadata": {},
   "outputs": [
    {
     "data": {
      "text/plain": [
       "array([[0.5234431]], dtype=float32)"
      ]
     },
     "execution_count": 260,
     "metadata": {},
     "output_type": "execute_result"
    }
   ],
   "source": [
    "pre = ['very bad']\n",
    "pre_sequences = tokenizer.texts_to_sequences(pre)\n",
    "pre_padded = pad_sequences(pre_sequences,maxlen=max_length, truncating='post')\n",
    "prediction = model.predict(pre_padded)\n",
    "prediction"
   ]
  },
  {
   "cell_type": "code",
   "execution_count": null,
   "metadata": {},
   "outputs": [],
   "source": []
  },
  {
   "cell_type": "code",
   "execution_count": 499,
   "metadata": {},
   "outputs": [],
   "source": [
    "model = Sequential()\n",
    "\n",
    "embedding_layer = Embedding(vocab_size, 300, weights=[embedding_weights], input_length=maxlen , trainable=False)\n",
    "model.add(embedding_layer)\n",
    "\n",
    "model.add(Conv1D(128, 5, activation='relu'))\n",
    "model.add(GlobalMaxPooling1D())\n",
    "model.add(Dense(1, activation='sigmoid'))\n",
    "model.compile(optimizer='adam', loss='binary_crossentropy', metrics=['acc'])"
   ]
  },
  {
   "cell_type": "code",
   "execution_count": 500,
   "metadata": {},
   "outputs": [
    {
     "name": "stdout",
     "output_type": "stream",
     "text": [
      "_________________________________________________________________\n",
      "Layer (type)                 Output Shape              Param #   \n",
      "=================================================================\n",
      "embedding_28 (Embedding)     (None, 324, 300)          1774200   \n",
      "_________________________________________________________________\n",
      "conv1d_8 (Conv1D)            (None, 320, 128)          192128    \n",
      "_________________________________________________________________\n",
      "global_max_pooling1d_8 (Glob (None, 128)               0         \n",
      "_________________________________________________________________\n",
      "dense_18 (Dense)             (None, 1)                 129       \n",
      "=================================================================\n",
      "Total params: 1,966,457\n",
      "Trainable params: 192,257\n",
      "Non-trainable params: 1,774,200\n",
      "_________________________________________________________________\n",
      "None\n"
     ]
    }
   ],
   "source": [
    "print(model.summary())"
   ]
  },
  {
   "cell_type": "code",
   "execution_count": 501,
   "metadata": {},
   "outputs": [
    {
     "name": "stdout",
     "output_type": "stream",
     "text": [
      "Train on 3009 samples, validate on 753 samples\n",
      "Epoch 1/6\n",
      "3009/3009 [==============================] - 42s 14ms/step - loss: 0.5286 - acc: 0.7315 - val_loss: 0.4348 - val_acc: 0.7995\n",
      "Epoch 2/6\n",
      "3009/3009 [==============================] - 41s 14ms/step - loss: 0.3793 - acc: 0.8481 - val_loss: 0.3796 - val_acc: 0.8486\n",
      "Epoch 3/6\n",
      "3009/3009 [==============================] - 41s 14ms/step - loss: 0.3148 - acc: 0.8833 - val_loss: 0.3571 - val_acc: 0.8526\n",
      "Epoch 4/6\n",
      "3009/3009 [==============================] - 41s 14ms/step - loss: 0.2654 - acc: 0.9133 - val_loss: 0.3333 - val_acc: 0.8685\n",
      "Epoch 5/6\n",
      "3009/3009 [==============================] - 41s 14ms/step - loss: 0.2225 - acc: 0.9299 - val_loss: 0.3205 - val_acc: 0.8712\n",
      "Epoch 6/6\n",
      "3009/3009 [==============================] - 47s 16ms/step - loss: 0.1861 - acc: 0.9465 - val_loss: 0.3096 - val_acc: 0.8725\n",
      "941/941 [==============================] - 6s 6ms/step\n"
     ]
    }
   ],
   "source": [
    "history = model.fit(X_train, y_train, batch_size = 128, epochs=6, verbose=1, validation_split=0.2)\n",
    "\n",
    "score = model.evaluate(X_test, y_test, verbose=1)"
   ]
  },
  {
   "cell_type": "code",
   "execution_count": 506,
   "metadata": {},
   "outputs": [
    {
     "name": "stdout",
     "output_type": "stream",
     "text": [
      "Test Score: 0.32427524046044043\n",
      "Test Accuracy: 0.8618490967689741\n"
     ]
    }
   ],
   "source": [
    "print(\"Test Score:\", score[0])\n",
    "print(\"Test Accuracy:\", score[1])"
   ]
  },
  {
   "cell_type": "code",
   "execution_count": 503,
   "metadata": {},
   "outputs": [
    {
     "data": {
      "image/png": "[encoded data removed]",
      "text/plain": [
       "<Figure size 432x288 with 1 Axes>"
      ]
     },
     "metadata": {},
     "output_type": "display_data"
    },
    {
     "data": {
      "image/png": "[encoded data removed]",
      "text/plain": [
       "<Figure size 432x288 with 1 Axes>"
      ]
     },
     "metadata": {},
     "output_type": "display_data"
    }
   ],
   "source": [
    "plt.plot(history.history['acc'])\n",
    "plt.plot(history.history['val_acc'])\n",
    "plt.title('model accuracy')\n",
    "plt.ylabel('acc')\n",
    "plt.xlabel('epochs')\n",
    "plt.legend(['train','test'], loc='upper left')\n",
    "plt.show()\n",
    "\n",
    "plt.plot(history.history['loss'])\n",
    "plt.plot(history.history['val_loss'])\n",
    "\n",
    "plt.title('model loss')\n",
    "plt.ylabel('loss')\n",
    "plt.xlabel('epoch')\n",
    "plt.legend(['train','test'], loc='upper left')\n",
    "plt.show()"
   ]
  },
  {
   "cell_type": "code",
   "execution_count": 513,
   "metadata": {},
   "outputs": [
    {
     "name": "stdout",
     "output_type": "stream",
     "text": [
      "[[9, 10]]\n"
     ]
    },
    {
     "data": {
      "text/plain": [
       "array([[0.96134114]], dtype=float32)"
      ]
     },
     "execution_count": 513,
     "metadata": {},
     "output_type": "execute_result"
    }
   ],
   "source": [
    "pre = ['the location is very nice']\n",
    "pre_sequences = tokenizer.texts_to_sequences(pre)\n",
    "print(pre_sequences)\n",
    "pre_padded = pad_sequences(pre_sequences,maxlen=max_length, padding='post')\n",
    "prediction = model.predict(pre_padded)\n",
    "prediction"
   ]
  },
  {
   "cell_type": "code",
   "execution_count": null,
   "metadata": {},
   "outputs": [],
   "source": []
  },
  {
   "cell_type": "code",
   "execution_count": null,
   "metadata": {},
   "outputs": [],
   "source": []
  }
 ],
 "metadata": {
  "kernelspec": {
   "display_name": "Python 3",
   "language": "python",
   "name": "python3"
  },
  "language_info": {
   "codemirror_mode": {
    "name": "ipython",
    "version": 3
   },
   "file_extension": ".py",
   "mimetype": "text/x-python",
   "name": "python",
   "nbconvert_exporter": "python",
   "pygments_lexer": "ipython3",
   "version": "3.6.5"
  }
 },
 "nbformat": 4,
 "nbformat_minor": 2
}
